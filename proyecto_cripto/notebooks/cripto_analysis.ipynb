{
 "cells": [
  {
   "cell_type": "markdown",
   "id": "a4f45401-e52b-4cd7-8662-5089aab89448",
   "metadata": {},
   "source": [
    "# Descarga de datos desde CryptoCompare\n",
    "\n",
    "# En esta instancia, obtendré datos históricos de Bitcoin (BTC) usando la API de CryptoCompare.\n",
    "# Los datos se almacenarán en un DataFrame de Pandas para su posterior análisis."
   ]
  },
  {
   "cell_type": "code",
   "execution_count": 31,
   "id": "a3711566-c918-47e3-bf99-060a43663147",
   "metadata": {},
   "outputs": [
    {
     "name": "stdout",
     "output_type": "stream",
     "text": [
      "Librerías instaladas correctamente.\n"
     ]
    }
   ],
   "source": [
    "import requests\n",
    "import pandas as pd\n",
    "\n",
    "print(\"Librerías instaladas correctamente.\")"
   ]
  },
  {
   "cell_type": "code",
   "execution_count": 32,
   "id": "0a0d7269-2979-4b22-8731-7c382739031d",
   "metadata": {},
   "outputs": [],
   "source": [
    "# Tu API Key de CryptoCompare\n",
    "api_key = \"7f324b2682ff7b5ebc839eff3e8d9770ff61010f46c2f281c6a64e87281f28a6\"\n",
    "\n",
    "# Parámetros para la solicitud\n",
    "symbol = \"BTC\"  # Símbolo de Bitcoin\n",
    "currency = \"USD\"  # Moneda de referencia (USD)\n",
    "limit = 1000  # Número de datos históricos a obtener (máximo 2000)"
   ]
  },
  {
   "cell_type": "code",
   "execution_count": 33,
   "id": "fdd0d133-ab9d-4a05-aaa9-c97400475fed",
   "metadata": {},
   "outputs": [],
   "source": [
    "# URL del endpoint para obtener datos históricos\n",
    "url = f\"https://min-api.cryptocompare.com/data/v2/histoday?fsym={symbol}&tsym={currency}&limit={limit}&api_key={api_key}\"\n",
    "\n",
    "# Hacer la solicitud a la API\n",
    "response = requests.get(url)\n",
    "\n",
    "# Verificar si la solicitud fue exitosa\n",
    "if response.status_code == 200:\n",
    "    data = response.json()  # Convertir la respuesta a JSON\n",
    "    historical_data = data[\"Data\"][\"Data\"]  # Extraer los datos históricos\n",
    "else:\n",
    "    print(\"Error al obtener los datos:\", response.status_code)"
   ]
  },
  {
   "cell_type": "code",
   "execution_count": 34,
   "id": "58d92b1e-f896-4021-a39c-9e1e24085ef2",
   "metadata": {},
   "outputs": [
    {
     "name": "stdout",
     "output_type": "stream",
     "text": [
      "        time      high       low      open  volumefrom      volumeto  \\\n",
      "0 2022-07-08  22377.17  21183.19  21611.80    56687.83  1.233183e+09   \n",
      "1 2022-07-09  21942.80  21328.96  21592.65    21058.31  4.552187e+08   \n",
      "2 2022-07-10  21591.09  20671.26  21582.17    23037.78  4.855936e+08   \n",
      "3 2022-07-11  20852.04  19872.03  20846.53    37062.98  7.564812e+08   \n",
      "4 2022-07-12  20036.49  19230.29  19944.25    44319.07  8.734865e+08   \n",
      "\n",
      "      close conversionType conversionSymbol  \n",
      "0  21592.65         direct                   \n",
      "1  21582.17         direct                   \n",
      "2  20846.53         direct                   \n",
      "3  19944.25         direct                   \n",
      "4  19309.71         direct                   \n"
     ]
    }
   ],
   "source": [
    "# Crear un DataFrame con los datos históricos\n",
    "df = pd.DataFrame(historical_data)\n",
    "\n",
    "# Convertir la columna \"time\" a formato de fecha\n",
    "df[\"time\"] = pd.to_datetime(df[\"time\"], unit=\"s\")\n",
    "\n",
    "# Mostrar las primeras filas del DataFrame\n",
    "print(df.head())"
   ]
  },
  {
   "cell_type": "code",
   "execution_count": 35,
   "id": "2d63919c-de1b-4864-83a1-429479d6a373",
   "metadata": {},
   "outputs": [
    {
     "name": "stdout",
     "output_type": "stream",
     "text": [
      "<class 'pandas.core.frame.DataFrame'>\n",
      "RangeIndex: 1001 entries, 0 to 1000\n",
      "Data columns (total 9 columns):\n",
      " #   Column            Non-Null Count  Dtype         \n",
      "---  ------            --------------  -----         \n",
      " 0   time              1001 non-null   datetime64[ns]\n",
      " 1   high              1001 non-null   float64       \n",
      " 2   low               1001 non-null   float64       \n",
      " 3   open              1001 non-null   float64       \n",
      " 4   volumefrom        1001 non-null   float64       \n",
      " 5   volumeto          1001 non-null   float64       \n",
      " 6   close             1001 non-null   float64       \n",
      " 7   conversionType    1001 non-null   object        \n",
      " 8   conversionSymbol  1001 non-null   object        \n",
      "dtypes: datetime64[ns](1), float64(6), object(2)\n",
      "memory usage: 70.5+ KB\n",
      "None\n",
      "                      time           high            low           open  \\\n",
      "count                 1001    1001.000000    1001.000000    1001.000000   \n",
      "mean   2023-11-20 00:00:00   47629.461558   45781.212168   46702.304865   \n",
      "min    2022-07-08 00:00:00   16272.470000   15480.690000   15760.190000   \n",
      "25%    2023-03-15 00:00:00   25272.470000   24306.080000   24757.560000   \n",
      "50%    2023-11-20 00:00:00   37770.110000   36701.830000   37299.180000   \n",
      "75%    2024-07-27 00:00:00   67120.990000   64529.300000   65794.000000   \n",
      "max    2025-04-03 00:00:00  109340.210000  105308.990000  106155.610000   \n",
      "std                    NaN   26605.030561   25438.728219   26050.115510   \n",
      "\n",
      "          volumefrom      volumeto          close  \n",
      "count    1001.000000  1.001000e+03    1001.000000  \n",
      "mean    36784.822937  1.675241e+09   46764.066673  \n",
      "min      2332.110000  9.302473e+07   15760.190000  \n",
      "25%     18955.320000  6.745531e+08   24838.090000  \n",
      "50%     31309.010000  1.206041e+09   37321.510000  \n",
      "75%     47462.930000  2.050493e+09   65868.670000  \n",
      "max    245518.910000  1.204144e+10  106155.610000  \n",
      "std     24713.425162  1.607006e+09   26063.854814  \n"
     ]
    }
   ],
   "source": [
    "# Ver información general del DataFrame\n",
    "print(df.info())\n",
    "\n",
    "# Ver estadísticas descriptivas\n",
    "print(df.describe())"
   ]
  },
  {
   "cell_type": "code",
   "execution_count": 36,
   "id": "c9be6a28-f84f-4d06-beda-90d48677d60a",
   "metadata": {
    "scrolled": true
   },
   "outputs": [
    {
     "name": "stdout",
     "output_type": "stream",
     "text": [
      "Directorio actual: C:\\Users\\Juanse\\Desktop\\Data Science 2\\proyecto_cripto\n",
      "Directorio actual después del cambio: C:\\Users\\Juanse\\Desktop\\Data Science 2\n",
      "Se creó la carpeta: data\n",
      "Archivo CSV guardado correctamente.\n"
     ]
    }
   ],
   "source": [
    "# Guardar el DataFrame en un archivo CSV\n",
    "import os\n",
    "\n",
    "# Verifica el directorio actual\n",
    "print(\"Directorio actual:\", os.getcwd())\n",
    "\n",
    "# Cambia el directorio a la carpeta anterior (directorio padre)\n",
    "os.chdir(\"..\")\n",
    "\n",
    "# Verifica el directorio actual después del cambio\n",
    "print(\"Directorio actual después del cambio:\", os.getcwd())\n",
    "\n",
    "# Ruta de la carpeta \"data\"\n",
    "carpeta_data = \"data\"\n",
    "\n",
    "# Verifica si la carpeta \"data\" existe, si no, créala\n",
    "if not os.path.exists(carpeta_data):\n",
    "    os.makedirs(carpeta_data)\n",
    "    print(f\"Se creó la carpeta: {carpeta_data}\")\n",
    "else:\n",
    "    print(f\"La carpeta ya existe: {carpeta_data}\")\n",
    "\n",
    "# Guardar el DataFrame en un archivo CSV\n",
    "df.to_csv(os.path.join(carpeta_data, \"historical_btc.csv\"), index=False)\n",
    "print(\"Archivo CSV guardado correctamente.\")"
   ]
  },
  {
   "cell_type": "markdown",
   "id": "5158c620-7fa4-4fad-94a6-3016c35f2877",
   "metadata": {},
   "source": [
    "# Data Wrangling\n",
    "\n",
    "# En esta instancia, limpiaré y prepararé los datos históricos de Bitcoin obtenidos en la \"Descarga de datos desde CryptoCompare\".\n",
    "# Esto incluye tratar valores nulos, duplicados y outliers, así como transformar los datos según sea necesario."
   ]
  },
  {
   "cell_type": "code",
   "execution_count": 37,
   "id": "9d90c5aa-8974-4f88-a37e-e9641e85805a",
   "metadata": {},
   "outputs": [
    {
     "name": "stdout",
     "output_type": "stream",
     "text": [
      "         time      high       low      open  volumefrom      volumeto  \\\n",
      "0  2022-07-08  22377.17  21183.19  21611.80    56687.83  1.233183e+09   \n",
      "1  2022-07-09  21942.80  21328.96  21592.65    21058.31  4.552187e+08   \n",
      "2  2022-07-10  21591.09  20671.26  21582.17    23037.78  4.855936e+08   \n",
      "3  2022-07-11  20852.04  19872.03  20846.53    37062.98  7.564812e+08   \n",
      "4  2022-07-12  20036.49  19230.29  19944.25    44319.07  8.734865e+08   \n",
      "\n",
      "      close conversionType  conversionSymbol  \n",
      "0  21592.65         direct               NaN  \n",
      "1  21582.17         direct               NaN  \n",
      "2  20846.53         direct               NaN  \n",
      "3  19944.25         direct               NaN  \n",
      "4  19309.71         direct               NaN  \n"
     ]
    }
   ],
   "source": [
    "# Cargar los datos desde el archivo CSV\n",
    "df = pd.read_csv(\"data/historical_btc.csv\")\n",
    "\n",
    "# Mostrar las primeras filas del DataFrame\n",
    "print(df.head())"
   ]
  },
  {
   "cell_type": "code",
   "execution_count": 38,
   "id": "daa8ec18-2b7b-49b7-b9a2-a21bae8b1c21",
   "metadata": {},
   "outputs": [
    {
     "name": "stdout",
     "output_type": "stream",
     "text": [
      "<class 'pandas.core.frame.DataFrame'>\n",
      "RangeIndex: 1001 entries, 0 to 1000\n",
      "Data columns (total 9 columns):\n",
      " #   Column            Non-Null Count  Dtype  \n",
      "---  ------            --------------  -----  \n",
      " 0   time              1001 non-null   object \n",
      " 1   high              1001 non-null   float64\n",
      " 2   low               1001 non-null   float64\n",
      " 3   open              1001 non-null   float64\n",
      " 4   volumefrom        1001 non-null   float64\n",
      " 5   volumeto          1001 non-null   float64\n",
      " 6   close             1001 non-null   float64\n",
      " 7   conversionType    1001 non-null   object \n",
      " 8   conversionSymbol  0 non-null      float64\n",
      "dtypes: float64(7), object(2)\n",
      "memory usage: 70.5+ KB\n",
      "None\n",
      "                high            low           open     volumefrom  \\\n",
      "count    1001.000000    1001.000000    1001.000000    1001.000000   \n",
      "mean    47629.461558   45781.212168   46702.304865   36784.822937   \n",
      "std     26605.030561   25438.728219   26050.115510   24713.425162   \n",
      "min     16272.470000   15480.690000   15760.190000    2332.110000   \n",
      "25%     25272.470000   24306.080000   24757.560000   18955.320000   \n",
      "50%     37770.110000   36701.830000   37299.180000   31309.010000   \n",
      "75%     67120.990000   64529.300000   65794.000000   47462.930000   \n",
      "max    109340.210000  105308.990000  106155.610000  245518.910000   \n",
      "\n",
      "           volumeto          close  conversionSymbol  \n",
      "count  1.001000e+03    1001.000000               0.0  \n",
      "mean   1.675241e+09   46764.066673               NaN  \n",
      "std    1.607006e+09   26063.854814               NaN  \n",
      "min    9.302473e+07   15760.190000               NaN  \n",
      "25%    6.745531e+08   24838.090000               NaN  \n",
      "50%    1.206041e+09   37321.510000               NaN  \n",
      "75%    2.050493e+09   65868.670000               NaN  \n",
      "max    1.204144e+10  106155.610000               NaN  \n",
      "time                   0\n",
      "high                   0\n",
      "low                    0\n",
      "open                   0\n",
      "volumefrom             0\n",
      "volumeto               0\n",
      "close                  0\n",
      "conversionType         0\n",
      "conversionSymbol    1001\n",
      "dtype: int64\n",
      "0\n"
     ]
    }
   ],
   "source": [
    "# Ver información general del DataFrame\n",
    "print(df.info())\n",
    "\n",
    "# Ver estadísticas descriptivas\n",
    "print(df.describe())\n",
    "\n",
    "# Verificar valores nulos\n",
    "print(df.isnull().sum())\n",
    "\n",
    "# Verificar valores duplicados\n",
    "print(df.duplicated().sum())"
   ]
  },
  {
   "cell_type": "code",
   "execution_count": 39,
   "id": "f6d17a49-3b22-44d3-a6dc-bb0d1a79d5c6",
   "metadata": {},
   "outputs": [],
   "source": [
    "df = df.dropna()"
   ]
  },
  {
   "cell_type": "code",
   "execution_count": 40,
   "id": "e759f3ef-fbdd-45c6-b76f-170a7aafb6e9",
   "metadata": {},
   "outputs": [],
   "source": [
    "df = df.drop_duplicates()"
   ]
  },
  {
   "cell_type": "code",
   "execution_count": 41,
   "id": "53202d01-0a53-44af-a8bc-fcf70f475f05",
   "metadata": {},
   "outputs": [
    {
     "data": {
      "image/png": "[encoded data removed]",
      "text/plain": [
       "<Figure size 640x480 with 1 Axes>"
      ]
     },
     "metadata": {},
     "output_type": "display_data"
    }
   ],
   "source": [
    "import seaborn as sns\n",
    "import matplotlib.pyplot as plt\n",
    "\n",
    "# Gráfico de caja para la columna \"close\"\n",
    "sns.boxplot(x=df[\"close\"])\n",
    "plt.title(\"Distribución del precio de cierre de Bitcoin\")\n",
    "plt.xlabel(\"Precio de cierre (USD)\")\n",
    "plt.show()"
   ]
  },
  {
   "cell_type": "code",
   "execution_count": 42,
   "id": "10850c50-8209-4c45-890a-3da3aba6fda9",
   "metadata": {},
   "outputs": [],
   "source": [
    "df[\"time\"] = pd.to_datetime(df[\"time\"])"
   ]
  },
  {
   "cell_type": "code",
   "execution_count": 43,
   "id": "d64051f0-aeab-44eb-802b-56250f82a4a5",
   "metadata": {},
   "outputs": [],
   "source": [
    "df.to_csv(\"data/historical_btc_clean.csv\", index=False)"
   ]
  },
  {
   "cell_type": "markdown",
   "id": "8e122794-ddfd-4b00-9ea1-f45a232facb2",
   "metadata": {},
   "source": [
    "# Data Storytelling\n",
    "\n",
    "# En esta instancia, formularé preguntas o hipótesis sobre los datos históricos de Bitcoin y crearé visualizaciones para explorar y responder esas preguntas. El objetivo es desarrollar una narrativa que cuente una historia con los datos."
   ]
  },
  {
   "cell_type": "markdown",
   "id": "09de9ac8-4dcc-401c-aebf-80f937f81d22",
   "metadata": {},
   "source": [
    "# Preguntas sobre tendencias\n",
    "\n",
    "# ¿Cómo ha variado el precio de cierre de Bitcoin a lo largo del tiempo?\n",
    "\n",
    "# ¿Hay patrones estacionales en el precio de Bitcoin?\n",
    "\n",
    "# Preguntas sobre volatilidad:\n",
    "\n",
    "# ¿Cuáles son los días con mayor volatilidad en el precio de Bitcoin?\n",
    "\n",
    "# ¿Cómo se compara la volatilidad del precio de Bitcoin en diferentes períodos?\n",
    "\n",
    "# Preguntas sobre volumen:\n",
    "\n",
    "# ¿Existe una relación entre el volumen de trading y el precio de Bitcoin?\n",
    "\n",
    "# ¿Cuáles son los días con mayor volumen de trading?\n",
    "\n",
    "# Preguntas sobre outliers:\n",
    "\n",
    "# ¿Qué eventos o noticias podrían explicar los outliers en el precio de Bitcoin?\n",
    "\n",
    "# ¿Cómo afectan los outliers a la distribución del precio?\n"
   ]
  },
  {
   "cell_type": "code",
   "execution_count": 44,
   "id": "88411f57-ebac-47ee-9cf6-282ffaf64d7c",
   "metadata": {},
   "outputs": [
    {
     "data": {
      "image/png": "[encoded data removed]",
      "text/plain": [
       "<Figure size 1200x600 with 1 Axes>"
      ]
     },
     "metadata": {},
     "output_type": "display_data"
    }
   ],
   "source": [
    "# Gráfico de línea para el precio de cierre a lo largo del tiempo\n",
    "\n",
    "# Crear la carpeta \"images\" si no existe\n",
    "if not os.path.exists(\"images\"):\n",
    "    os.makedirs(\"images\")\n",
    "\n",
    "plt.figure(figsize=(12, 6))\n",
    "plt.plot(df[\"time\"], df[\"close\"], label=\"Precio de cierre\")\n",
    "plt.title(\"Precio de cierre de Bitcoin a lo largo del tiempo\")\n",
    "plt.xlabel(\"Fecha\")\n",
    "plt.ylabel(\"Precio de cierre (USD)\")\n",
    "plt.legend()\n",
    "\n",
    "# Guardar la imagen\n",
    "plt.savefig(\"images/precio_cierre_bitcoin.png\")\n",
    "plt.show()"
   ]
  },
  {
   "cell_type": "code",
   "execution_count": 45,
   "id": "edcfd638-0f35-44ee-820d-0ddf04f2fa34",
   "metadata": {},
   "outputs": [
    {
     "data": {
      "image/png": "[encoded data removed]",
      "text/plain": [
       "<Figure size 1000x600 with 1 Axes>"
      ]
     },
     "metadata": {},
     "output_type": "display_data"
    }
   ],
   "source": [
    "# Gráfico de dispersión para relación entre volumen y precio:\n",
    "\n",
    "plt.figure(figsize=(10, 6))\n",
    "plt.scatter(df[\"volumeto\"], df[\"close\"], alpha=0.5)\n",
    "plt.title(\"Relación entre volumen de trading y precio de cierre\")\n",
    "plt.xlabel(\"Volumen de trading (USD)\")\n",
    "plt.ylabel(\"Precio de cierre (USD)\")\n",
    "\n",
    "# Guardar la imagen\n",
    "plt.savefig(\"images/relacion_volumen_precio.png\")\n",
    "plt.show()"
   ]
  },
  {
   "cell_type": "code",
   "execution_count": 46,
   "id": "09682244-561b-47ed-8735-62d8091f554a",
   "metadata": {},
   "outputs": [
    {
     "data": {
      "image/png": "[encoded data removed]",
      "text/plain": [
       "<Figure size 1000x600 with 1 Axes>"
      ]
     },
     "metadata": {},
     "output_type": "display_data"
    }
   ],
   "source": [
    "# Gráfico de caja para volatilidad por mes:\n",
    "\n",
    "# Extraer el mes de la columna \"time\"\n",
    "df[\"month\"] = df[\"time\"].dt.month\n",
    "\n",
    "plt.figure(figsize=(10, 6))\n",
    "sns.boxplot(x=\"month\", y=\"close\", data=df)\n",
    "plt.title(\"Volatilidad del precio de cierre por mes\")\n",
    "plt.xlabel(\"Mes\")\n",
    "plt.ylabel(\"Precio de cierre (USD)\")\n",
    "\n",
    "# Guardar la imagen\n",
    "plt.savefig(\"images/volatilidad_mes.png\")\n",
    "plt.show()"
   ]
  },
  {
   "cell_type": "markdown",
   "id": "0ed59dc0-e4f1-4af4-9774-6f4ba160a75c",
   "metadata": {},
   "source": [
    "# Desarrollar una narrativa\n",
    "\n",
    "# Tendencia general: \"El precio de Bitcoin ha mostrado una tendencia alcista a lo largo del tiempo, con picos significativos en ciertos períodos.\"\n",
    "\n",
    "# Volatilidad: \"Los meses de mayor volatilidad en el precio de Bitcoin coinciden con eventos importantes en el mercado de criptomonedas.\"\n",
    "\n",
    "# Relación volumen-precio: \"Se observa una correlación positiva entre el volumen de trading y el precio de cierre, lo que sugiere que un mayor volumen puede impulsar el precio.\""
   ]
  },
  {
   "cell_type": "code",
   "execution_count": 47,
   "id": "c4fb44ff-9e4e-4fea-8f0c-32a5e837887a",
   "metadata": {},
   "outputs": [],
   "source": [
    "# Crear un archivo PDF y guardar las visualizaciones\n",
    "\n",
    "from matplotlib.backends.backend_pdf import PdfPages\n",
    "\n",
    "# Crear un archivo PDF\n",
    "with PdfPages(\"informe_bitcoin.pdf\") as pdf:\n",
    "    # Gráfico 1: Precio de cierre a lo largo del tiempo\n",
    "    plt.figure(figsize=(10, 6))\n",
    "    plt.plot(df[\"time\"], df[\"close\"], label=\"Precio de cierre\")\n",
    "    plt.title(\"Precio de cierre de Bitcoin a lo largo del tiempo\")\n",
    "    plt.xlabel(\"Fecha\")\n",
    "    plt.ylabel(\"Precio de cierre (USD)\")\n",
    "    plt.legend()\n",
    "    pdf.savefig()  # Guardar en el PDF\n",
    "    plt.close()\n",
    "\n",
    "    # Gráfico 2: Relación entre volumen y precio\n",
    "    plt.figure(figsize=(10, 6))\n",
    "    plt.scatter(df[\"volumeto\"], df[\"close\"], alpha=0.5)\n",
    "    plt.title(\"Relación entre volumen de trading y precio de cierre\")\n",
    "    plt.xlabel(\"Volumen de trading (USD)\")\n",
    "    plt.ylabel(\"Precio de cierre (USD)\")\n",
    "    pdf.savefig()  # Guardar en el PDF\n",
    "    plt.close()\n",
    "\n",
    "    # Gráfico 3: Volatilidad por mes\n",
    "    plt.figure(figsize=(10, 6))\n",
    "    sns.boxplot(x=\"month\", y=\"close\", data=df)\n",
    "    plt.title(\"Volatilidad del precio de cierre por mes\")\n",
    "    plt.xlabel(\"Mes\")\n",
    "    plt.ylabel(\"Precio de cierre (USD)\")\n",
    "    pdf.savefig()  # Guardar en el PDF\n",
    "    plt.close()"
   ]
  },
  {
   "cell_type": "markdown",
   "id": "e68c8c45-a13d-48de-abad-5c83694bbb64",
   "metadata": {},
   "source": [
    "# Este proyecto analiza los datos históricos de Bitcoin para entender su comportamiento en términos de precio y volumen de trading.\n",
    "# La motivación principal es identificar patrones y tendencias que puedan ser útiles para inversores y entusiastas de criptomonedas.\n",
    "# El análisis se centra en responder preguntas clave sobre la volatilidad del precio, la relación entre volumen y precio, y los eventos que han impactado el mercado."
   ]
  },
  {
   "cell_type": "markdown",
   "id": "91eb940d-5bf3-41b7-931c-1015143a19be",
   "metadata": {},
   "source": [
    "# Preguntas/Hipótesis\n",
    "\n",
    "# 1. ¿Cómo ha variado el precio de cierre de Bitcoin a lo largo del tiempo?\n",
    "# 2. ¿Existe una relación entre el volumen de trading y el precio de Bitcoin?\n",
    "# 3. ¿Cuáles son los días con mayor volatilidad en el precio de Bitcoin?\n",
    "# 4. ¿Qué eventos o noticias han causado outliers en el precio de Bitcoin?"
   ]
  },
  {
   "cell_type": "markdown",
   "id": "bd5d1ffe-26bf-48e0-8d53-8cd77505924e",
   "metadata": {},
   "source": [
    "# Análisis Exploratorio de Datos (EDA)\n",
    "\n",
    "## 1. Precio de cierre de Bitcoin a lo largo del tiempo\n",
    "El siguiente gráfico muestra la evolución del precio de cierre de Bitcoin desde junio de 2022 hasta la fecha actual. Se observa una tendencia [alcista/bajista/volátil] con picos significativos en [fechas específicas].\n",
    "\n",
    "![Precio de cierre de Bitcoin](../images/precio_cierre_bitcoin.png)\n",
    "\n",
    "## 2. Relación entre volumen de trading y precio de cierre\n",
    "Este gráfico de dispersión muestra la relación entre el volumen de trading y el precio de cierre. Se observa una correlación [positiva/negativa/débil], lo que sugiere que [interpretación].\n",
    "\n",
    "![Relación volumen-precio](../images/relacion_volumen_precio.png)\n",
    "\n",
    "## 3. Volatilidad del precio por mes\n",
    "El gráfico de caja muestra la volatilidad del precio de cierre por mes. Los meses con mayor volatilidad son [meses específicos], lo que podría estar relacionado con [eventos o noticias].\n",
    "\n",
    "![Volatilidad por mes](../images/volatilidad_mes.png)"
   ]
  },
  {
   "cell_type": "markdown",
   "id": "dca851a8-954e-47fd-8c5f-9f445654a73c",
   "metadata": {},
   "source": [
    "# Insights y Conclusiones\n",
    "\n",
    "# 1. Tendencia del precio: El precio de Bitcoin ha mostrado una tendencia [alcista/bajista/volátil] en el período analizado, con picos significativos en [fechas específicas].\n",
    "\n",
    "# 2. Relación volumen-precio: Se observa una correlación [positiva/negativa/débil] entre el volumen de trading y el precio de cierre, lo que sugiere que [interpretación].\n",
    "\n",
    "# 3. Volatilidad: Los meses con mayor volatilidad en el precio de Bitcoin son [meses específicos], lo que podría estar relacionado con [eventos o noticias].\n",
    "\n",
    "# 4. Outliers: Los outliers en el precio de Bitcoin coinciden con [eventos específicos], lo que indica que [interpretación]."
   ]
  },
  {
   "cell_type": "code",
   "execution_count": 65,
   "id": "24845f34-1cb7-46ff-99ab-3b206b964898",
   "metadata": {},
   "outputs": [
    {
     "data": {
      "text/html": [
       "\n",
       "    <h3>Reporte de Cripto Analysis listo para descargar</h3>\n",
       "    <ol>\n",
       "        <li>Ingresa a: <a href='http://localhost:8888/doc/tree/notebooks/cripto_analysis.ipynb' target='_blank'> Abrir notebook en nueva pestaña</a></li>\n",
       "        <li>Descarguelo o presione: Ctrl</kbd> + P</kbd> </li>\n",
       "    </ol>\n",
       "</div>\n"
      ],
      "text/plain": [
       "<IPython.core.display.HTML object>"
      ]
     },
     "metadata": {},
     "output_type": "display_data"
    }
   ],
   "source": [
    "from IPython.display import display, HTML\n",
    "import webbrowser\n",
    "\n",
    "# Mensaje con estilo y enlace clickeable\n",
    "mensaje = \"\"\"\n",
    "    <h3>Reporte de Cripto Analysis listo para descargar</h3>\n",
    "    <ol>\n",
    "        <li>Ingresa a: <a href='http://localhost:8888/doc/tree/notebooks/cripto_analysis.ipynb' target='_blank'> Abrir notebook en nueva pestaña</a></li>\n",
    "        <li>Descarguelo o presione: Ctrl</kbd> + P</kbd> </li>\n",
    "    </ol>\n",
    "</div>\n",
    "\"\"\"\n",
    "\n",
    "# Mostrar el mensaje\n",
    "display(HTML(mensaje))"
   ]
  },
  {
   "cell_type": "code",
   "execution_count": null,
   "id": "a67ea7a8-37bd-4276-82dc-aae679feee77",
   "metadata": {},
   "outputs": [],
   "source": []
  }
 ],
 "metadata": {
  "kernelspec": {
   "display_name": "Python (mi_entorno)",
   "language": "python",
   "name": "mi_entorno"
  },
  "language_info": {
   "codemirror_mode": {
    "name": "ipython",
    "version": 3
   },
   "file_extension": ".py",
   "mimetype": "text/x-python",
   "name": "python",
   "nbconvert_exporter": "python",
   "pygments_lexer": "ipython3",
   "version": "3.10.4"
  }
 },
 "nbformat": 4,
 "nbformat_minor": 5
}
